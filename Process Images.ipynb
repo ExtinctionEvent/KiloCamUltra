{
 "cells": [
  {
   "cell_type": "markdown",
   "metadata": {},
   "source": [
    "Notebook for processing kilocam images into a timelapse\n",
    "\n",
    "images must be formated with the timestamp in the form IMG_YYYYMMDDHHMMSS.jpg\n",
    "\n",
    "Import the files into a folder called img/in, create a folder img/out\n",
    "\n",
    "Runs on python 3.5"
   ]
  },
  {
   "cell_type": "code",
   "execution_count": 47,
   "metadata": {
    "collapsed": false
   },
   "outputs": [],
   "source": [
    "# Make the imports \n",
    "\n",
    "from PIL import Image\n",
    "from PIL import ImageFont\n",
    "from PIL import ImageDraw \n",
    "import os"
   ]
  },
  {
   "cell_type": "code",
   "execution_count": 76,
   "metadata": {
    "collapsed": true
   },
   "outputs": [],
   "source": [
    "# Add in location for image annotation\n",
    "location = 'River Dean - Market Place'"
   ]
  },
  {
   "cell_type": "code",
   "execution_count": 79,
   "metadata": {
    "collapsed": false
   },
   "outputs": [],
   "source": [
    "# Import the fonts (this was mac and you might not have the font, so you may need to specify and alternative)\n",
    "font1 = ImageFont.truetype(\"~/Library/Fonts/Fifty-Regular.otf\", 30)\n",
    "font2 = ImageFont.truetype(\"~/Library/Fonts/Fifty-Regular.otf\", 20)"
   ]
  },
  {
   "cell_type": "code",
   "execution_count": 51,
   "metadata": {
    "collapsed": false
   },
   "outputs": [],
   "source": [
    "# Basic function to create the image timestamp\n",
    "\n",
    "def create_text(filename):\n",
    "    filename = filename.split('_')[1]\n",
    "    year = filename[:4]\n",
    "    month = filename[4:6]\n",
    "    day = filename[6:8]\n",
    "    hour = filename[8:10]\n",
    "    minu = filename[10:12]\n",
    "    months = [\"Jan\", \"Feb\", \"Mar\", \"Apr\", \"May\", \"Jun\", \"Jul\", \"Aug\", \"Sep\", \"Oct\", \"Nov\", \"Dec\"]\n",
    "    month = months[int(month)-1]\n",
    "    return_str = \"{hour}:{minu} {day} {month} {year}\".format(hour=hour, minu = minu, day = day, month=month, year = year)\n",
    "    return return_str\n",
    "    "
   ]
  },
  {
   "cell_type": "code",
   "execution_count": 16,
   "metadata": {
    "collapsed": false
   },
   "outputs": [
    {
     "data": {
      "text/plain": [
       "'12:00 15 Feb 2022'"
      ]
     },
     "execution_count": 16,
     "metadata": {},
     "output_type": "execute_result"
    }
   ],
   "source": [
    "# Test the function\n",
    "create_text('IMG_20220115120000.jpg')"
   ]
  },
  {
   "cell_type": "code",
   "execution_count": 53,
   "metadata": {
    "collapsed": false
   },
   "outputs": [],
   "source": [
    "# Get the files\n",
    "files = os.listdir('img/in')\n",
    "files.sort()"
   ]
  },
  {
   "cell_type": "code",
   "execution_count": 87,
   "metadata": {
    "collapsed": false
   },
   "outputs": [],
   "source": [
    "# Process the images\n",
    "# I remove images between specific times as the images were unusable.\n",
    "\n",
    "n = 1\n",
    "for f in files:\n",
    "    \n",
    "    # To remove unwanted images\n",
    "    _hour = int(f.split('_')[1][8:10])\n",
    "    if _hour < 8 or _hour >=17: # Delete if else if required...\n",
    "        pass\n",
    "    else:\n",
    "        \n",
    "        img = Image.open(\"img/in/{}\".format(f))\n",
    "        draw = ImageDraw.Draw(img)\n",
    "\n",
    "        text = create_text(f)\n",
    "\n",
    "        draw.text((850, 50),text,(255,255,255),font=font1) # Upper Right in white\n",
    "        draw.text((850, 10), location, (255,255,255), font=font2) # Upper Right in white\n",
    "        \n",
    "        fname = 'img'+str(n)+\".jpg\" # ffmpeg requires images in order labedled img1.jpg, img2.jpg etc\n",
    "        img.save(\"img/out/{}\".format(fname))\n",
    "        n+=1"
   ]
  },
  {
   "cell_type": "code",
   "execution_count": 86,
   "metadata": {
    "collapsed": false
   },
   "outputs": [
    {
     "data": {
      "text/plain": [
       "(1280, 1024)"
      ]
     },
     "execution_count": 86,
     "metadata": {},
     "output_type": "execute_result"
    }
   ],
   "source": [
    "# Check image size adjust comand line below\n",
    "img.size"
   ]
  },
  {
   "cell_type": "code",
   "execution_count": null,
   "metadata": {
    "collapsed": true
   },
   "outputs": [],
   "source": [
    "## Use this in the cmd line to create the timelapse, working dir is the img/out dir \n",
    "## Requires installation of ffmpeg\n",
    "## These settings give a good quality video...\n",
    "ffmpeg -r 30 -f image2 -s 1280x1024 -i img%d.jpg -vcodec libx264 -crf 25 -pix_fmt yuv420p dean.mp4"
   ]
  }
 ],
 "metadata": {
  "kernelspec": {
   "display_name": "p3_5",
   "language": "python",
   "name": "p3_5"
  },
  "language_info": {
   "codemirror_mode": {
    "name": "ipython",
    "version": 3
   },
   "file_extension": ".py",
   "mimetype": "text/x-python",
   "name": "python",
   "nbconvert_exporter": "python",
   "pygments_lexer": "ipython3",
   "version": "3.5.4"
  }
 },
 "nbformat": 4,
 "nbformat_minor": 2
}
